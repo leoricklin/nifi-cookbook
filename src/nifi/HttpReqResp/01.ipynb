{
 "cells": [
  {
   "cell_type": "markdown",
   "metadata": {},
   "source": [
    "# Recipe 01: Return file content\n",
    "\n",
    "### Use case: \n",
    "Receive HTTP Resuest, read file content, then return content as the HTTP Response\n",
    "\n",
    "### Reference:\n",
    "\n",
    "* Exposing data in a RESTful API with NiFi, https://www.clearpeaks.com/exposing-data-in-a-restful-api-with-nifi/\n",
    "\n",
    "### NiFi Examples: (https://bolsrcdnifi01.micron.com:8444/nifi/?processGroupId=fcbb344d-2b99-1f42-0000-0000556af466&componentIds=)\n",
    "\n",
    "* StandardHttpContextMap4Test\n",
    "  * Setting\n",
    "    * Type: StandardHttpContextMap 1.11.4\n",
    "  * Properties\n",
    "    * Max Oustanding Requests: 5000\n",
    "    * Request Expiration: 1 min\n",
    "\n",
    "* HandleHttpRequest\n",
    "  * Setting\n",
    "    * Type: HandleHttpRequest 1.11.4\n",
    "  * Properties\n",
    "    * Listening Port: 58001\n",
    "    * HTTP Context Map: StandardHttpContextMap4Test\n",
    "    * Allowed Paths: /ecstoken\n",
    "    * Client Authentication: No Authentication\n",
    "  * Relationships\n",
    "    * Success: FetchFile\n",
    "\n",
    "* FetchFile\n",
    "  * Setting\n",
    "    * Type: FetchFile 1.11.4\n",
    "  * Properties\n",
    "    * File to Fetch: /tmp/date.log\n",
    "    * Completion Strategy: None\n",
    "  * Relationships\n",
    "    * Success: FetchFile\n",
    "    * failure/not.found/permission.denied: Funnel\n",
    "\n",
    "* HandleHttpResponse\n",
    "  * Setting\n",
    "    * Type: HandleHttpResponse 1.11.4\n",
    "  * Properties\n",
    "    * HTTP Status Code: 200\n",
    "    * HTTP Context Map: StandardHttpContextMap4Leo\n",
    "  * Relationships\n",
    "    * Success: Funnel\n",
    "\n",
    "<img src=\"01_01.png\" style=\"display:block;margin-left:0;height:300px;\"/>\n"
   ]
  },
  {
   "cell_type": "markdown",
   "metadata": {},
   "source": [
    "### Python Examples"
   ]
  },
  {
   "cell_type": "code",
   "execution_count": null,
   "metadata": {},
   "outputs": [],
   "source": [
    "import requests\n",
    "\n",
    "apihost=\"bolsrcdnifi01.micron.com:58001\"\n",
    "def getAccessToken(encodedCred):\n",
    "    session = requests.Session()\n",
    "    url = \"http://{_apihost}/ecstoken\".format(_apihost=apihost)\n",
    "    headers = {'Authorization': 'Basic ' + encodedCred} \n",
    "    data = {\n",
    "        \"grant_type\":\"client_credentials\"\n",
    "    }\n",
    "    response = requests.get(url, headers=headers, data=data, verify=False)\n",
    "    #accessToken = response.json()\n",
    "    return response\n"
   ]
  },
  {
   "cell_type": "markdown",
   "metadata": {},
   "source": [
    "output:\n",
    "```\n",
    "RESP Status Code:200\n",
    "RESP Text:Wed Nov 18 05:13:52 GMT 2020\n",
    "```"
   ]
  },
  {
   "cell_type": "code",
   "execution_count": null,
   "metadata": {},
   "outputs": [],
   "source": [
    "resp = getAccessToken(\"abc\")\n",
    "print(\"RESP Status Code:{_code}\".format(_code=resp.status_code))\n",
    "print(\"RESP Text:{_text}\".format(_text=resp.text))"
   ]
  },
  {
   "cell_type": "code",
   "execution_count": null,
   "metadata": {},
   "outputs": [],
   "source": []
  }
 ],
 "metadata": {
  "kernelspec": {
   "display_name": "Python 3",
   "language": "python",
   "name": "python3"
  },
  "language_info": {
   "codemirror_mode": {
    "name": "ipython",
    "version": 3
   },
   "file_extension": ".py",
   "mimetype": "text/x-python",
   "name": "python",
   "nbconvert_exporter": "python",
   "pygments_lexer": "ipython3",
   "version": "3.8.6"
  }
 },
 "nbformat": 4,
 "nbformat_minor": 4
}
